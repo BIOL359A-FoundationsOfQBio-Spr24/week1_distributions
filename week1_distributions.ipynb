{
 "cells": [
  {
   "cell_type": "markdown",
   "metadata": {},
   "source": [
    "# Biol 359A | Data, distributions, variance, and correlation"
   ]
  },
  {
   "cell_type": "markdown",
   "metadata": {},
   "source": [
    "## Spring 2024, Week 1\n",
    "---\n",
    "Objectives:\n",
    "- Gain familiarity with fundamental concepts in python programming and Jupyter Notebooks\n",
    "- Understand definitions of association, correlation, and causation\n",
    "- Gait intuition about summary statistics and sample sizes"
   ]
  },
  {
   "cell_type": "markdown",
   "metadata": {},
   "source": [
    "### Section 1: Introduction to python programming"
   ]
  },
  {
   "cell_type": "markdown",
   "metadata": {},
   "source": [
    "This section may be review for people with coding experience. It is not meant to be comprehensive, but to introduce some fundamental ideas about programming and programming specifically in Python. There are no questions in this section."
   ]
  },
  {
   "cell_type": "markdown",
   "metadata": {},
   "source": [
    "#### Jupyter Notebooks\n",
    "\n",
    "All coding in this course will be completed in Jupyter Notebooks (like this one!). Jupyter Notebooks present runable code cells alongside markdown cells. You can run the code cells by holding `shift` and hitting `enter`. Run the two code cells below."
   ]
  },
  {
   "cell_type": "code",
   "execution_count": 24,
   "metadata": {},
   "outputs": [],
   "source": [
    "a_variable = \"I am a variable!\"\n"
   ]
  },
  {
   "cell_type": "code",
   "execution_count": 27,
   "metadata": {},
   "outputs": [
    {
     "data": {
      "text/plain": [
       "'I am not a variable!'"
      ]
     },
     "execution_count": 27,
     "metadata": {},
     "output_type": "execute_result"
    }
   ],
   "source": [
    "a_variable # This will print the value of a_variable"
   ]
  },
  {
   "cell_type": "markdown",
   "metadata": {},
   "source": [
    "**IT IS VERY IMPORTANT TO NOTE:** that the order in which you execute code in a Jupyter Notebook is EXTREMELY IMPORTANT. For instance, run the code in the cell below this markdown cell, and then the cell immediately above this markdown cell. The value of `a_variable` will be determined by the latest cell you've run, not necessarily the cell physically located above it."
   ]
  },
  {
   "cell_type": "code",
   "execution_count": 26,
   "metadata": {},
   "outputs": [],
   "source": [
    "a_variable = \"I am not a variable!\""
   ]
  },
  {
   "cell_type": "markdown",
   "metadata": {},
   "source": [
    "#### Data Types"
   ]
  },
  {
   "cell_type": "markdown",
   "metadata": {},
   "source": [
    "At the hardware level, computers store all their data using the binary system, which means that every piece of information is represented as a series of 0s and 1s. This includes numbers, letters, and everything else we see on a screen. However, the same series of 0s and 1s can have different meanings. For example, the 8-bit binary sequence \"01000001\" is the binary code for both number 65 and the letter A.\n",
    "\n",
    "Given that everything is stored in these binary sequences, how does a computer know if the series \"01000001\" stored in memory should be interpreted as a number, a letter, or something else?\n",
    "\n",
    "Data types solve this problem. They tell the computer the type of data a binary sequence represents, ensuring it translates and treats the data appropriately."
   ]
  },
  {
   "cell_type": "code",
   "execution_count": 29,
   "metadata": {},
   "outputs": [
    {
     "name": "stdout",
     "output_type": "stream",
     "text": [
      "1\n",
      "2\n",
      "A\n",
      "AA\n"
     ]
    }
   ],
   "source": [
    "# The print() function is used to output data to the console. In Jupyter Notebooks, the last line of a cell is automatically printed.\n",
    "# Here we use print() statements to output all lines of the cell\n",
    "print(1)\n",
    "print(1 + 1)\n",
    "print('A')\n",
    "print('A' + 'A')"
   ]
  },
  {
   "cell_type": "markdown",
   "metadata": {},
   "source": [
    "Above, the behavior of the + operator is different depending on what it is between. When between two `1`s, it performed addition, but when between two `A`'s, it performed [concatonation](https://www.merriam-webster.com/dictionary/concatenate#h2). This is because `1` and `A` are different data types."
   ]
  },
  {
   "cell_type": "code",
   "execution_count": 30,
   "metadata": {},
   "outputs": [
    {
     "name": "stdout",
     "output_type": "stream",
     "text": [
      "<class 'int'>\n",
      "<class 'str'>\n"
     ]
    }
   ],
   "source": [
    "# The type() function returns the data type of the data it receives as an argument.\n",
    "print(type(1))\n",
    "print(type('A'))"
   ]
  },
  {
   "cell_type": "markdown",
   "metadata": {},
   "source": [
    "You can see that `1` is of type 'int', or integer, and `A` is of type 'str', or string. These are two common data types. Integers are whole numbers and strings are letters, words, and number that are meant to be read."
   ]
  },
  {
   "cell_type": "code",
   "execution_count": 31,
   "metadata": {},
   "outputs": [
    {
     "name": "stdout",
     "output_type": "stream",
     "text": [
      "<class 'str'>\n",
      "<class 'str'>\n",
      "<class 'str'>\n",
      "11\n"
     ]
    }
   ],
   "source": [
    "print(type(\"This is a string\"))\n",
    "print(type(\"I can write 2 strings\")) # Even though this string contains an integer, it is still a string.\n",
    "print(type('1')) # Because this is wrapped in quotes, this is a string, not an integer.\n",
    "print('1' + '1') # This will output 11, because the 1's are strings, not integers, and the + operator concatonates strings."
   ]
  },
  {
   "cell_type": "markdown",
   "metadata": {},
   "source": [
    "These are some other common datatypes:"
   ]
  },
  {
   "cell_type": "code",
   "execution_count": 32,
   "metadata": {},
   "outputs": [
    {
     "name": "stdout",
     "output_type": "stream",
     "text": [
      "<class 'float'>\n",
      "<class 'bool'>\n",
      "<class 'NoneType'>\n"
     ]
    }
   ],
   "source": [
    "print(type(1.0)) # Floats are numbers with decimal points.\n",
    "print(type(True)) # Booleans are either True or False.\n",
    "print(type(None)) # None represents the absence of a value."
   ]
  },
  {
   "cell_type": "markdown",
   "metadata": {},
   "source": [
    "#### Variables\n",
    "\n",
    "Variables hold a piece of data or a value and allow you to reference it by a name"
   ]
  },
  {
   "cell_type": "code",
   "execution_count": 34,
   "metadata": {},
   "outputs": [
    {
     "data": {
      "text/plain": [
       "6"
      ]
     },
     "execution_count": 34,
     "metadata": {},
     "output_type": "execute_result"
    }
   ],
   "source": [
    "length = 2 # length is a variable. Variables are used to store data that can be used later in the program.\n",
    "width = 3 # width is another variable.\n",
    "area = length * width # area is a third variable. It is the product of the length and width variables.\n",
    "area"
   ]
  },
  {
   "cell_type": "markdown",
   "metadata": {},
   "source": [
    "Variables promote code flexibility and readability. We will use them extensively."
   ]
  },
  {
   "cell_type": "markdown",
   "metadata": {},
   "source": [
    "#### Data Structures\n",
    "\n",
    "You can think of data structures as containers that hold data or variables. Python has some built-in data structures types."
   ]
  },
  {
   "cell_type": "code",
   "execution_count": 8,
   "metadata": {},
   "outputs": [
    {
     "name": "stdout",
     "output_type": "stream",
     "text": [
      "<class 'list'>\n",
      "<class 'tuple'>\n",
      "<class 'dict'>\n"
     ]
    }
   ],
   "source": [
    "print(type([1, 2, 3])) # Lists allow you to keep items in a specific order and allow you to add and remove items.\n",
    "print(type((1, 2, 3))) # Tuples are similar to lists, but they are immutable, meaning you cannot change them by adding or removing items.\n",
    "print(type({1: \"one\", 2: \"two\", 3: \"three\"})) # Dictionaries are used to store key-value pairs."
   ]
  },
  {
   "cell_type": "markdown",
   "metadata": {},
   "source": [
    "You can use data structures to store other data structures:"
   ]
  },
  {
   "cell_type": "code",
   "execution_count": 9,
   "metadata": {},
   "outputs": [
    {
     "name": "stdout",
     "output_type": "stream",
     "text": [
      "<class 'list'>\n",
      "<class 'tuple'>\n",
      "<class 'dict'>\n"
     ]
    }
   ],
   "source": [
    "print(type([[1, 2, 3], [\"a\", \"b\", \"c\"], [1.0, 2.0, 3.0]])) # This is a list of lists.\n",
    "print(type((1, [1, 2, 3], \"A\"))) # This is a tuple containing an integer, a list, and a string.\n",
    "print(type({\"A\": [1, 2, 3], \"B\": [\"a\", \"b\", \"c\"], \"C\": [1.0, 2.0, 3.0]})) # This is a dictionary containing lists as values."
   ]
  },
  {
   "cell_type": "markdown",
   "metadata": {},
   "source": [
    "Python has a large library of packages, or collections of code written by other organizations or individuals, that you can use. A frequently used package in data analysis is pandas. Pandas gives you access to a data structure called a dataframe, which is essentially a matrix for storing data."
   ]
  },
  {
   "cell_type": "code",
   "execution_count": 11,
   "metadata": {},
   "outputs": [],
   "source": [
    "import pandas # This imports the pandas package."
   ]
  },
  {
   "cell_type": "code",
   "execution_count": 12,
   "metadata": {},
   "outputs": [
    {
     "data": {
      "text/html": [
       "<div>\n",
       "<style scoped>\n",
       "    .dataframe tbody tr th:only-of-type {\n",
       "        vertical-align: middle;\n",
       "    }\n",
       "\n",
       "    .dataframe tbody tr th {\n",
       "        vertical-align: top;\n",
       "    }\n",
       "\n",
       "    .dataframe thead th {\n",
       "        text-align: right;\n",
       "    }\n",
       "</style>\n",
       "<table border=\"1\" class=\"dataframe\">\n",
       "  <thead>\n",
       "    <tr style=\"text-align: right;\">\n",
       "      <th></th>\n",
       "      <th>A</th>\n",
       "      <th>B</th>\n",
       "      <th>C</th>\n",
       "    </tr>\n",
       "  </thead>\n",
       "  <tbody>\n",
       "    <tr>\n",
       "      <th>0</th>\n",
       "      <td>1</td>\n",
       "      <td>A</td>\n",
       "      <td>1.0</td>\n",
       "    </tr>\n",
       "    <tr>\n",
       "      <th>1</th>\n",
       "      <td>2</td>\n",
       "      <td>B</td>\n",
       "      <td>2.0</td>\n",
       "    </tr>\n",
       "    <tr>\n",
       "      <th>2</th>\n",
       "      <td>3</td>\n",
       "      <td>C</td>\n",
       "      <td>3.0</td>\n",
       "    </tr>\n",
       "  </tbody>\n",
       "</table>\n",
       "</div>"
      ],
      "text/plain": [
       "   A  B    C\n",
       "0  1  A  1.0\n",
       "1  2  B  2.0\n",
       "2  3  C  3.0"
      ]
     },
     "execution_count": 12,
     "metadata": {},
     "output_type": "execute_result"
    }
   ],
   "source": [
    "df = pandas.DataFrame({\"A\": [1, 2, 3], \"B\": [\"A\", \"B\", \"C\"], \"C\": [1.0, 2.0, 3.0]}) # This creates a pandas DataFrame.\n",
    "df"
   ]
  },
  {
   "cell_type": "markdown",
   "metadata": {},
   "source": [
    "We will use pandas dataframes extensively in this course"
   ]
  },
  {
   "cell_type": "markdown",
   "metadata": {},
   "source": [
    "#### Functions"
   ]
  },
  {
   "cell_type": "markdown",
   "metadata": {},
   "source": [
    "Functions are used to perform specific tasks. They can take arguments as input and return values. Here is an example of a function that takes two arguments and returns their sum."
   ]
  },
  {
   "cell_type": "code",
   "execution_count": 35,
   "metadata": {},
   "outputs": [],
   "source": [
    "def find_sum(a, b): # This is a function that takes two arguments and returns their sum.\n",
    "    return a + b"
   ]
  },
  {
   "cell_type": "code",
   "execution_count": 36,
   "metadata": {},
   "outputs": [
    {
     "name": "stdout",
     "output_type": "stream",
     "text": [
      "3\n",
      "5\n"
     ]
    }
   ],
   "source": [
    "print(find_sum(1, 2))\n",
    "print(find_sum(2, 3))"
   ]
  },
  {
   "cell_type": "markdown",
   "metadata": {},
   "source": [
    "Functions allow you to perform a task many times without rewriting code. They make code more readable and enable repetetive tasks to be solved efficiently. Many functions have been defined in python packages. We will be using functions extensively throughout this course. \n",
    "\n",
    "In fact, we have already used several functions in this notebook! For example, the `print()` function prints its argument, the `type()` function returns the type of its argument, and the `pandas.DataFrame()` (which is defined in the pandas package) makes a new DataFrame."
   ]
  },
  {
   "cell_type": "markdown",
   "metadata": {},
   "source": [
    "## Section 2: Data exploration: distributions and variance\n",
    "---\n"
   ]
  },
  {
   "cell_type": "markdown",
   "metadata": {},
   "source": [
    "It is a best practice in python to import the packages you use in each file near or at the top of the file. Here are import statements for the packages we will use throughout the rest of this notebook.\n",
    "\n",
    "The packages used are as follows\n",
    "- `pandas` provides dataframes for data storage and manipulation\n",
    "- `ipywidgets` provides dynamic notebook widgets (like sliders)\n",
    "- `scipy` us a general scientific computing package\n",
    "- `numpy` is a general math/matrices package\n",
    "- `matplotlib` Provides data visualization functionality\n",
    "\n",
    "Using \"as\" creates an alias or alternate name for packages. Some packages have commonly used aliases as shown below."
   ]
  },
  {
   "cell_type": "code",
   "execution_count": 31,
   "metadata": {},
   "outputs": [],
   "source": [
    "import pandas as pd\n",
    "import numpy as np\n",
    "import matplotlib.pyplot as plt\n",
    "import ipywidgets as widgets\n",
    "import scipy.stats as stats"
   ]
  },
  {
   "cell_type": "markdown",
   "metadata": {},
   "source": [
    "In our recent class, we covered the topics of expected values and variances as ways to describe data. To get a better feel for what these terms mean, we're going to create some example data. This practical exercise will help us understand the implications of these measures."
   ]
  },
  {
   "cell_type": "markdown",
   "metadata": {},
   "source": [
    "### Normal Distribution"
   ]
  },
  {
   "cell_type": "markdown",
   "metadata": {},
   "source": [
    "Let's imagine we recorded the flipper lengths of 1000 penguins, measured in centimeters. The code above creates 1000 synthetic data points drawn from a normal distribution given an expected value and variance and prepares two plots for display."
   ]
  },
  {
   "cell_type": "code",
   "execution_count": 94,
   "metadata": {},
   "outputs": [],
   "source": [
    "\n",
    "# Function to generate data plot and normal distribution plot based on provided mean and variance\n",
    "def plot_syn_data_and_distribution(mean=20, variance=1):\n",
    "    sigma = np.sqrt(variance)  # Standard deviation is the square root of variance\n",
    "    \n",
    "    # Data for the scatter plot\n",
    "    data = np.random.normal(mean, sigma, 100)\n",
    "    \n",
    "    # Data for the normal distribution plot\n",
    "    x = np.linspace(10, 30, 1000)\n",
    "    y = stats.norm.pdf(x, mean, sigma)\n",
    "    \n",
    "    # Setup figure and axes\n",
    "    fig, axs = plt.subplots(1, 2, figsize=(15, 6))\n",
    "    \n",
    "    # Scatter Plot on the first subplot\n",
    "    axs[0].scatter(range(len(data)), data)\n",
    "    axs[0].set_title('Synthetic Flipper Length Data', fontsize=16)\n",
    "    axs[0].set_xlabel('Sample Index', fontsize=14)\n",
    "    axs[0].set_ylabel('Flipper Length (cm)', fontsize=14)\n",
    "    axs[0].set_ylim(10, 30)\n",
    "    axs[0].set_xlim(0, 100)\n",
    "    axs[0].grid(True)\n",
    "    \n",
    "    # Normal Distribution Plot on the second subplot\n",
    "    axs[1].plot(x, y)\n",
    "    axs[1].set_title('Synthetic Flipper Length Data Distribution', fontsize=16)\n",
    "    axs[1].set_xlabel('Flipper Length (cm)', fontsize=14)\n",
    "    axs[1].set_ylabel('Probability Density', fontsize=14)\n",
    "    axs[1].set_xlim(10, 30)\n",
    "    axs[1].set_ylim(0, max(y) + 0.05)\n",
    "    axs[1].grid(True)\n",
    "    \n",
    "    plt.tight_layout()\n",
    "    plt.show()\n",
    "\n",
    "# Custom label for the expected value slider using HTML to ensure visibility\n",
    "expected_value_label = widgets.HTML('<div style=\"width:100px;\">Expected Value:</div>')\n",
    "\n",
    "# Creating the expected value slider without a built-in description\n",
    "expected_value_slider = widgets.FloatSlider(min=10, max=30, step=0.5, value=20, readout_format='.1f', layout=widgets.Layout(width='250px'))\n",
    "\n",
    "# Creating the variance slider with its description\n",
    "variance_slider = widgets.FloatSlider(min=0.5, max=20, step=0.5, value=1, description='Variance:', readout_format='.1f', layout=widgets.Layout(width='320px'))\n",
    "\n",
    "# Grouping the expected value label and slider horizontally\n",
    "expected_value_control = widgets.HBox([expected_value_label, expected_value_slider])\n",
    "\n",
    "# Grouping all controls horizontally\n",
    "controls = widgets.HBox([expected_value_control, variance_slider])\n",
    "\n",
    "# Use interactive widget to link sliders with the plotting function\n",
    "interactive_plot = widgets.interactive_output(plot_syn_data_and_distribution, {'mean': expected_value_slider, 'variance': variance_slider})\n"
   ]
  },
  {
   "cell_type": "markdown",
   "metadata": {},
   "source": [
    "The cell below displays both plots.\n",
    "\n",
    "The plot on the left shows 100 data points, with flipper length (in cm) on the y-axis and the sample index on the x-axis. In this scenario, each index corresponds to a different penguin, assuming we measured just one flipper per bird.\n",
    "\n",
    "The plot on the right shows a histogram of all 1000 data points.\n",
    "\n",
    "Below the plots are sliders that allow you to adjust the expected value and the variance of the data. Play around with these sliders and assess how each affects the data."
   ]
  },
  {
   "cell_type": "code",
   "execution_count": 104,
   "metadata": {},
   "outputs": [
    {
     "data": {
      "application/vnd.jupyter.widget-view+json": {
       "model_id": "01b952bfcf384676b7eecf4faea3f001",
       "version_major": 2,
       "version_minor": 0
      },
      "text/plain": [
       "VBox(children=(Output(outputs=({'output_type': 'display_data', 'data': {'text/plain': '<Figure size 1500x500 w…"
      ]
     },
     "metadata": {},
     "output_type": "display_data"
    }
   ],
   "source": [
    "display(widgets.VBox([interactive_plot, controls]))"
   ]
  },
  {
   "cell_type": "markdown",
   "metadata": {},
   "source": [
    "QUESTIONS:\n",
    "1. How does increasing the expected value affect each plot?\n",
    "2. How does decreasing the expected value affect each plot?\n",
    "3. How does increasing the variance affect each plot?\n",
    "4. How does decreasing the variance affect each plot?\n",
    "5. Set the expected value near 20 and the variance near 1. What flipper lengths are you likely to see in this hypothetical penguin population?\n",
    "6. Leave the expected value near 20 and set the variance near 10. What flipper lengths are you likely to see in this hypothetical penguin population? How is this penguin population similar to the hypothetical population from question 5? How is it different from the hypothetical population from questino 5?"
   ]
  },
  {
   "cell_type": "markdown",
   "metadata": {},
   "source": [
    "### Uniform distribution"
   ]
  },
  {
   "cell_type": "markdown",
   "metadata": {},
   "source": [
    "Imagine we record some behavioral data about these penguins. We time the duration each penguin spends underwater during each dive. The code below generates 1000 synthetic datapoints drawn from a uniform distribution and prepares two plots for display."
   ]
  },
  {
   "cell_type": "code",
   "execution_count": 131,
   "metadata": {},
   "outputs": [],
   "source": [
    "def plot_penguin_data(min_val=0, max_val=10):\n",
    "    # Generating synthetic data\n",
    "    data_100 = np.random.uniform(low=min_val, high=max_val, size=100)\n",
    "    data_1000 = np.random.uniform(low=min_val, high=max_val, size=1000)\n",
    "    \n",
    "    # Calculating mean and variance\n",
    "    mean_val = np.mean(data_1000)\n",
    "    variance_val = np.var(data_1000)\n",
    "    \n",
    "    # Plotting\n",
    "    fig, axs = plt.subplots(1, 2, figsize=(15, 5))\n",
    "    \n",
    "    # Scatter plot for 100 points\n",
    "    axs[0].scatter(range(100), data_100, color='blue')\n",
    "    axs[0].set_title('Synthetic Dive Duration Data', fontsize=16)\n",
    "    axs[0].set_xlabel('Sample Index', fontsize=14)\n",
    "    axs[0].set_ylabel('Dive Duration (min)', fontsize=14)\n",
    "    axs[0].set_ylim(0, 20)  # Fixing y-axis scale\n",
    "    \n",
    "    # Histogram for 1000 points\n",
    "    axs[1].hist(data_1000, bins=30, color='skyblue', edgecolor='black')\n",
    "    axs[1].set_title('Synthetic Dive Duration Data Distribution', fontsize=16)\n",
    "    axs[1].set_xlabel('Dive Duration (min)', fontsize=14)\n",
    "    axs[1].set_ylabel('Frequency', fontsize=14)\n",
    "    axs[1].set_xlim(0, 20)  # Fixing x-axis scale\n",
    "    \n",
    "    plt.tight_layout()\n",
    "    plt.show()\n",
    "    \n",
    "    # Displaying mean and variance\n",
    "    print(f\"Expected Value: {mean_val:.2f}, Variance: {variance_val:.2f}\")\n",
    "\n",
    "# Creating sliders for min and max values\n",
    "min_slider = widgets.FloatSlider(value=0, min=0, max=19.5, step=0.5, description='Min Value:', continuous_update=False)\n",
    "max_slider = widgets.FloatSlider(value=10, min=0.5, max=20, step=0.5, description='Max Value:', continuous_update=False)\n",
    "\n",
    "# Update function to ensure min is always less than max\n",
    "def update_max(*args):\n",
    "    if max_slider.value <= min_slider.value:\n",
    "        min_slider.value = max_slider.value - 0.5\n",
    "def update_min(*args):\n",
    "    if min_slider.value >= max_slider.value:\n",
    "        max_slider.value = min_slider.value + 0.5\n",
    "min_slider.observe(update_max, 'value')\n",
    "max_slider.observe(update_min, 'value')\n",
    "\n",
    "# Using interactive_output to create the plot without automatically displaying sliders\n",
    "interactive_plot = widgets.interactive_output(plot_penguin_data, {'min_val': min_slider, 'max_val': max_slider})\n",
    "\n",
    "# Grouping sliders horizontally\n",
    "controls = widgets.HBox([min_slider, max_slider])"
   ]
  },
  {
   "cell_type": "markdown",
   "metadata": {},
   "source": [
    "The below code displays the plots. \n",
    "\n",
    "The left plot shows 100 selected datapoints, with dive duration on the y axis and sample index (or dive instance) on the x axis. \n",
    "\n",
    "The right plot shows a histogram of all 1000 datapoints.\n",
    "\n",
    "The expected value and the variance of the data are printed below the plots.\n",
    "\n",
    "At the bottom of the figure are sliders that allow you to adjust the min and the max value of the data. While a normal distribution is described by an expected value and a variance, a uniform distribution is described by a minimum and a maximum value. When you adjust the sliders, new synthetic data are generated by drawing 1000 new data points from a uniform distribution with your specified minimum and maximum values. Note that the min value slider can not go higher than the max value slider (and vice versa)."
   ]
  },
  {
   "cell_type": "code",
   "execution_count": 106,
   "metadata": {},
   "outputs": [
    {
     "data": {
      "application/vnd.jupyter.widget-view+json": {
       "model_id": "5bbe085230ca4bbab4fd39aa1802ca58",
       "version_major": 2,
       "version_minor": 0
      },
      "text/plain": [
       "VBox(children=(Output(outputs=({'output_type': 'display_data', 'data': {'text/plain': '<Figure size 1500x500 w…"
      ]
     },
     "metadata": {},
     "output_type": "display_data"
    }
   ],
   "source": [
    "# Displaying the plot and controls\n",
    "display(widgets.VBox([interactive_plot, controls]))"
   ]
  },
  {
   "cell_type": "markdown",
   "metadata": {},
   "source": [
    "QUESTIONS\n",
    "1. What happens to the variance of the data as the min and max values get closer together? \n",
    "2. What happens to the variance of the data as the min and max values get farther apart?\n",
    "3. Set the min and max to some value. Change one slider and then change it back again. What happened to the expected value and the variance? Why?\n",
    "4. What happens to the expected value and variance of the data as the min and max values increase but maintain the same distance from each other (i.e. compare min val 0 max val 10 to min val 10 max val 20).\n",
    "5. What are some environmental conditions that could explain why the dive time of these penguins is uniformly distributed?\n",
    "6. What are some environmental conditions that could make it unlikely for dive time to be uniformly distributed?\n",
    "7. What constraints might establish the maximum dive time?\n",
    "8. What constraints might establish the minimum dive time?"
   ]
  },
  {
   "cell_type": "markdown",
   "metadata": {},
   "source": [
    "### Bernoulli distribution"
   ]
  },
  {
   "cell_type": "markdown",
   "metadata": {},
   "source": [
    "Imagine we now want to measure whether each pengin successfully catches a fish with each dive. For each dive we observe, we record a `0` if the penguin resurfaces without a fish and a `1` if the penguin resurfaces with a fish. The code below generates synthetic data drawn from a bernoulli distribution and prepares two plots."
   ]
  },
  {
   "cell_type": "code",
   "execution_count": 132,
   "metadata": {},
   "outputs": [],
   "source": [
    "def plot_penguin_fishing(p=0.5):\n",
    "    # Generating 1000 Bernoulli-distributed points\n",
    "    data = np.random.binomial(1, p, 1000)\n",
    "    \n",
    "    # Expected value and variance for Bernoulli distribution\n",
    "    expected_value = np.mean(data)\n",
    "    variance = np.var(data, ddof=1)\n",
    "    \n",
    "    # Setting up plots\n",
    "    fig, axs = plt.subplots(1, 2, figsize=(15, 5))\n",
    "    \n",
    "    # Scatter plot for first 100 points\n",
    "    axs[0].scatter(range(100), data[:100], color='blue')\n",
    "    axs[0].set_title('Outcomes of 100 Dives', fontsize=16)\n",
    "    axs[0].set_xlabel('Sample Index', fontsize=14)\n",
    "    axs[0].set_ylabel('Failure (0) or Success (1)', fontsize=14)\n",
    "    axs[0].set_ylim(-0.1, 1.1)\n",
    "    \n",
    "    # Histogram for all 1000 points\n",
    "    axs[1].hist(data, bins=[-0.5,0.5,1.5], rwidth=0.8, color='skyblue', edgecolor='black', align='mid')\n",
    "    axs[1].set_title('Distribution of Outcomes of All Dives', fontsize=16)\n",
    "    axs[1].set_xlabel('Failure (0) or Success (1)', fontsize=14)\n",
    "    axs[1].set_xticks([0,1])\n",
    "    axs[1].set_ylabel('Frequency', fontsize=14)\n",
    "    \n",
    "    plt.tight_layout()\n",
    "    plt.show()\n",
    "    \n",
    "    # Displaying expected value and variance\n",
    "    print(f\"Expected Value: {expected_value:.2f}, Variance: {variance:.2f}\")\n",
    "\n",
    "# Custom label for the probability slider\n",
    "p_slider_label = widgets.HTML('Probability of Success:', layout=widgets.Layout(width='150px'))\n",
    "\n",
    "# Creating the slider without a built-in description\n",
    "p_slider = widgets.FloatSlider(min=0, max=1, step=0.01, value=0.5, readout_format='.2f', layout=widgets.Layout(width='300px'), continuous_update=False)\n",
    "\n",
    "# Grouping the label and slider horizontally\n",
    "p_slider_control = widgets.HBox([p_slider_label, p_slider])\n",
    "\n",
    "# Interactive widget to link slider with the plotting function\n",
    "interactive_plot = widgets.interactive_output(plot_penguin_fishing, {'p': p_slider})"
   ]
  },
  {
   "cell_type": "markdown",
   "metadata": {},
   "source": [
    "The code below displays two plots.\n",
    "\n",
    "The left plot shows 100 datapoints with success on the y axis and dive instance on the x axis.\n",
    "\n",
    "The right plot shows the distribution of failure vs success for all dives.\n",
    "\n",
    "The expected values and variances of the generated data are displayed below the plots.\n",
    "\n",
    "A slider below the plots allows you to adjust the probability each penguin is successful. This probability of success is the parameter that describes the bernoulli distribution. When you adjust the slider, new data are drawn from a bernoulli distribution with your specified probability of success and displayed in the plots."
   ]
  },
  {
   "cell_type": "code",
   "execution_count": 133,
   "metadata": {},
   "outputs": [
    {
     "data": {
      "application/vnd.jupyter.widget-view+json": {
       "model_id": "0d8ba25f125a4fb1b4c61b2afe2c6c11",
       "version_major": 2,
       "version_minor": 0
      },
      "text/plain": [
       "VBox(children=(Output(outputs=({'output_type': 'display_data', 'data': {'text/plain': '<Figure size 1500x500 w…"
      ]
     },
     "metadata": {},
     "output_type": "display_data"
    }
   ],
   "source": [
    "# Display the interactive plot and the custom slider control\n",
    "display(widgets.VBox([interactive_plot, p_slider_control]))"
   ]
  },
  {
   "cell_type": "markdown",
   "metadata": {},
   "source": [
    "QUESTIONS:\n",
    "1. How does the probability of success compare to the expected value of the data?\n",
    "2. At what probabilities of success is the variance greatest? At what probabilities of success is the varience smallest? Why?"
   ]
  },
  {
   "cell_type": "markdown",
   "metadata": {},
   "source": [
    "### Binomial distribution"
   ]
  },
  {
   "cell_type": "markdown",
   "metadata": {},
   "source": [
    "Suppose penguins make a specific number of attempts to feed their young each day. Each attempt may be successful or may fail, but the parent penguins never change the number of attempts they make. Suppose we watch 1000 parent penguins for one day and for each penguin, we record the number of feeding attempts that are successful. The code below generates synthetic data drawn from a binomial distribution and prepares two plots."
   ]
  },
  {
   "cell_type": "code",
   "execution_count": 153,
   "metadata": {},
   "outputs": [],
   "source": [
    "def plot_penguin_feeding_attempts(n=10, p=0.7):\n",
    "    # Generating binomial-distributed points for feeding attempts\n",
    "    data = np.random.binomial(n, p, 1000)\n",
    "    \n",
    "    # Expected value and variance for binomial distribution\n",
    "    expected_value = np.mean(data)\n",
    "    variance = np.var(data)\n",
    "    \n",
    "    # Setting up plots\n",
    "    fig, axs = plt.subplots(1, 2, figsize=(15, 6))\n",
    "    \n",
    "    # Scatter plot for first 100 points\n",
    "    axs[0].scatter(range(100), data[:100], color='blue')\n",
    "    axs[0].set_title('Successful Feeds for 100 Penguins', fontsize=16)\n",
    "    axs[0].set_xlabel('Penguin ID', fontsize=14)\n",
    "    axs[0].set_ylabel('Number of Successful Feeds', fontsize=14)\n",
    "    axs[0].set_ylim(0, n+1)\n",
    "    \n",
    "    # Histogram for all 1000 points\n",
    "    axs[1].hist(data, bins=range(n+2), align='left', color='skyblue', edgecolor='black')\n",
    "    axs[1].set_title('Distribution of Successful Feeds Over 1000 Days', fontsize=16)\n",
    "    axs[1].set_xlabel('Number of Successful Feeds', fontsize=14)\n",
    "    axs[1].set_ylabel('Frequency', fontsize=14)\n",
    "    axs[1].set_xticks(range(n+1))\n",
    "    \n",
    "    plt.tight_layout()\n",
    "    plt.show()\n",
    "    \n",
    "    # Displaying expected value and variance\n",
    "    print(f\"Expected Value: {expected_value:.2f}, Variance: {variance:.2f}\")\n",
    "\n",
    "# Custom label for the number of attempts and success probability sliders\n",
    "n_slider_label = widgets.HTML(value=\"Number of Attempts:\", layout=widgets.Layout(width='130px'))\n",
    "p_slider_label = widgets.HTML(value=\"Probability of Success:\", layout=widgets.Layout(width='140px'))\n",
    "\n",
    "# Creating the sliders without built-in descriptions\n",
    "n_slider = widgets.IntSlider(value=10, min=1, max=20, step=1, layout=widgets.Layout(width='300px'), continuous_update=False)\n",
    "p_slider = widgets.FloatSlider(value=0.7, min=0, max=1, step=0.01, layout=widgets.Layout(width='300px'), continuous_update=False)\n",
    "\n",
    "# Grouping labels and sliders horizontally\n",
    "n_slider_control = widgets.HBox([n_slider_label, n_slider])\n",
    "p_slider_control = widgets.HBox([p_slider_label, p_slider])\n",
    "\n",
    "# Interactive widget to link sliders with the plotting function\n",
    "interactive_plot = widgets.interactive_output(plot_penguin_feeding_attempts, {'n': n_slider, 'p': p_slider})"
   ]
  },
  {
   "cell_type": "markdown",
   "metadata": {},
   "source": [
    "The code below displays the plots.\n",
    "\n",
    "The left plot shows data from 100 penguins with number of successful feeds on the y axis and penguin ID on the x axis.\n",
    "\n",
    "The right plot shows a histogram of data for all penguins.\n",
    "\n",
    "The expected value and variance of the data are displayed below the plots.\n",
    "\n",
    "Sliders below the plot allow you to change the probability of penguin success and the number of attempts each penguin will make to feed their young."
   ]
  },
  {
   "cell_type": "code",
   "execution_count": 155,
   "metadata": {},
   "outputs": [
    {
     "data": {
      "application/vnd.jupyter.widget-view+json": {
       "model_id": "8f0726bdddec449d9b8f71466db6df74",
       "version_major": 2,
       "version_minor": 0
      },
      "text/plain": [
       "VBox(children=(Output(outputs=({'output_type': 'display_data', 'data': {'text/plain': '<Figure size 1500x600 w…"
      ]
     },
     "metadata": {},
     "output_type": "display_data"
    }
   ],
   "source": [
    "# Displaying the plot and sliders side by side\n",
    "display(widgets.VBox([interactive_plot, widgets.HBox([p_slider_control, n_slider_control])]))"
   ]
  },
  {
   "cell_type": "markdown",
   "metadata": {},
   "source": [
    "QUESTIONS:\n",
    "1. What happens to the variance as you increase the number of attempts? Why?\n",
    "2. At what probabilities of success is the variance greatest? At what probabilities of success is the varience smallest? Why?\n",
    "3. How does the expected value compare to the number of attempts and the probability of success? (Hint: Try setting the probability of success to .5 and varying the number of attempts. How does the expected value compare to the number of attempts? Now set the probability of success to 1 and vary the number of attempts. Do you notice a pattern?)"
   ]
  },
  {
   "cell_type": "markdown",
   "metadata": {},
   "source": [
    "### Poisson Distribution"
   ]
  },
  {
   "cell_type": "code",
   "execution_count": 161,
   "metadata": {},
   "outputs": [
    {
     "data": {
      "application/vnd.jupyter.widget-view+json": {
       "model_id": "35d816530ff14e0dac6d24869dc60950",
       "version_major": 2,
       "version_minor": 0
      },
      "text/plain": [
       "VBox(children=(Output(), HBox(children=(HTML(value='Average Visits:', layout=Layout(width='120px')), FloatSlid…"
      ]
     },
     "metadata": {},
     "output_type": "display_data"
    }
   ],
   "source": [
    "def plot_penguin_nest_visits(lam=5):\n",
    "    # Generating Poisson-distributed points for nest visits\n",
    "    data = np.random.poisson(lam, 1000)\n",
    "    \n",
    "    # Expected value and variance for Poisson distribution\n",
    "    expected_value = np.mean(data)\n",
    "    variance = np.var(data)\n",
    "    \n",
    "    # Setting up plots\n",
    "    fig, axs = plt.subplots(1, 2, figsize=(15, 6))\n",
    "    \n",
    "    # Scatter plot for first 100 points\n",
    "    axs[0].scatter(range(100), data[:100], color='blue')\n",
    "    axs[0].set_title('Nest Visits for First 100 Penguins', fontsize=16)\n",
    "    axs[0].set_xlabel('Penguin Number', fontsize=14)\n",
    "    axs[0].set_ylabel('Number of Nest Visits', fontsize=14)\n",
    "    axs[0].set_ylim(0, max(data[:100]) + 2)\n",
    "    \n",
    "    # Histogram for all 1000 points\n",
    "    axs[1].hist(data, bins=range(min(data), max(data) + 2), align='left', color='skyblue', edgecolor='black')\n",
    "    axs[1].set_title('Distribution of Nest Visits Among 1000 Penguins', fontsize=16)\n",
    "    axs[1].set_xlabel('Number of Nest Visits', fontsize=14)\n",
    "    axs[1].set_ylabel('Frequency', fontsize=14)\n",
    "    \n",
    "    plt.tight_layout()\n",
    "    plt.show()\n",
    "    \n",
    "    # Displaying expected value and variance\n",
    "    print(f\"Expected Value: {expected_value}, Variance: {variance}\")\n",
    "\n",
    "# HTML widget for the slider label\n",
    "lam_slider_label = widgets.HTML('Average Visits:', layout=widgets.Layout(width='120px'))\n",
    "\n",
    "# Slider for the average number of nest visits (λ) without built-in description\n",
    "lam_slider = widgets.FloatSlider(value=5, min=1, max=10, step=1, layout=widgets.Layout(width='300px'), continuous_update=False)\n",
    "\n",
    "# Grouping the HTML label and slider horizontally\n",
    "lam_slider_control = widgets.HBox([lam_slider_label, lam_slider])\n",
    "\n",
    "# Interactive widget to link slider with the plotting function\n",
    "interactive_plot = widgets.interactive_output(plot_penguin_nest_visits, {'lam': lam_slider})\n",
    "\n",
    "# Displaying the plot and custom slider control\n",
    "display(widgets.VBox([interactive_plot, lam_slider_control]))"
   ]
  },
  {
   "cell_type": "markdown",
   "metadata": {},
   "source": [
    "## Section 3: Data exploration: correlation"
   ]
  },
  {
   "cell_type": "markdown",
   "metadata": {},
   "source": []
  }
 ],
 "metadata": {
  "kernelspec": {
   "display_name": "biol359",
   "language": "python",
   "name": "python3"
  },
  "language_info": {
   "codemirror_mode": {
    "name": "ipython",
    "version": 3
   },
   "file_extension": ".py",
   "mimetype": "text/x-python",
   "name": "python",
   "nbconvert_exporter": "python",
   "pygments_lexer": "ipython3",
   "version": "3.12.0"
  }
 },
 "nbformat": 4,
 "nbformat_minor": 2
}
